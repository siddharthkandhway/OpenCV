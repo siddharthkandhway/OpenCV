{
 "cells": [
  {
   "cell_type": "code",
   "execution_count": 1,
   "id": "ec1b49ad-b1bb-4ece-acaf-03056e4ab9ad",
   "metadata": {},
   "outputs": [],
   "source": [
    "import cv2"
   ]
  },
  {
   "cell_type": "code",
   "execution_count": 22,
   "id": "f7764074-2921-452f-8df7-19373edd79c5",
   "metadata": {},
   "outputs": [],
   "source": [
    "img=cv2.imread('animegirl.jpg',1)"
   ]
  },
  {
   "cell_type": "code",
   "execution_count": 43,
   "id": "7c0a544c-9aca-4a3b-b670-7268ab69d822",
   "metadata": {},
   "outputs": [],
   "source": [
    "# img=cv2.resize(img,(1600,900))\n",
    "img=cv2.resize(img,(0,0),fx=0.5,fy=0.5)"
   ]
  },
  {
   "cell_type": "code",
   "execution_count": 50,
   "id": "116509a0-6e28-4f46-b368-fb2c81e9189c",
   "metadata": {},
   "outputs": [],
   "source": [
    "img=cv2.rotate(img,cv2.ROTATE_180)\n",
    "img=cv2.rotate(img,cv2.ROTATE_90_COUNTERCLOCKWISE)"
   ]
  },
  {
   "cell_type": "code",
   "execution_count": null,
   "id": "7efcd9b4-b750-4702-b82d-9721cbf13999",
   "metadata": {},
   "outputs": [],
   "source": []
  },
  {
   "cell_type": "code",
   "execution_count": 51,
   "id": "a0c8c304-65bc-474c-80ee-ae2dbf429ddd",
   "metadata": {},
   "outputs": [],
   "source": [
    "#  -1, cv2.IMREAD_COLOR : load a color image\n",
    "# 0, cv2.IM_GRAYSCALE : LOAD AN IMAGE IN GRAYSCALE\n",
    "# 1,cv2.IMREAD_UNCHANGED "
   ]
  },
  {
   "cell_type": "code",
   "execution_count": 52,
   "id": "be5293a7-fdbf-489c-9c73-2d6bdb62ecfd",
   "metadata": {},
   "outputs": [],
   "source": [
    "cv2.imshow('IMAGE',img)\n",
    "cv2.waitKey(0)\n",
    "cv2.destroyAllWindows()"
   ]
  },
  {
   "cell_type": "code",
   "execution_count": 53,
   "id": "d971de4a-cc83-4d90-9d0f-6a7b7ab290fc",
   "metadata": {},
   "outputs": [
    {
     "data": {
      "text/plain": [
       "True"
      ]
     },
     "execution_count": 53,
     "metadata": {},
     "output_type": "execute_result"
    }
   ],
   "source": [
    "cv2.imwrite('new_img.jpg',img)"
   ]
  },
  {
   "cell_type": "code",
   "execution_count": null,
   "id": "28ac5bc6-bb36-4d3d-83c2-f68e2c1bc8be",
   "metadata": {},
   "outputs": [],
   "source": []
  }
 ],
 "metadata": {
  "kernelspec": {
   "display_name": "Python 3 (ipykernel)",
   "language": "python",
   "name": "python3"
  },
  "language_info": {
   "codemirror_mode": {
    "name": "ipython",
    "version": 3
   },
   "file_extension": ".py",
   "mimetype": "text/x-python",
   "name": "python",
   "nbconvert_exporter": "python",
   "pygments_lexer": "ipython3",
   "version": "3.11.2"
  }
 },
 "nbformat": 4,
 "nbformat_minor": 5
}
