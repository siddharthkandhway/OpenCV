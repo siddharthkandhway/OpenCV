{
 "cells": [
  {
   "cell_type": "code",
   "execution_count": 15,
   "id": "c0d0cd52-6b26-4d7d-a92e-b97a4d540afc",
   "metadata": {},
   "outputs": [],
   "source": [
    "import cv2\n",
    "import random"
   ]
  },
  {
   "cell_type": "code",
   "execution_count": 2,
   "id": "dd7d7b2e-712d-4965-b706-896bf0de7057",
   "metadata": {},
   "outputs": [],
   "source": [
    "img=cv2.imread('animegirl.jpg')"
   ]
  },
  {
   "cell_type": "code",
   "execution_count": 4,
   "id": "c5bd998f-6a8b-4282-a546-5ad698abf341",
   "metadata": {},
   "outputs": [
    {
     "name": "stdout",
     "output_type": "stream",
     "text": [
      "[[[17  8  5]\n",
      "  [17  8  5]\n",
      "  [17  8  5]\n",
      "  ...\n",
      "  [76 33 54]\n",
      "  [76 33 54]\n",
      "  [76 33 54]]\n",
      "\n",
      " [[17  8  5]\n",
      "  [17  8  5]\n",
      "  [17  8  5]\n",
      "  ...\n",
      "  [76 33 54]\n",
      "  [76 33 54]\n",
      "  [76 33 54]]\n",
      "\n",
      " [[17  8  5]\n",
      "  [17  8  5]\n",
      "  [17  8  5]\n",
      "  ...\n",
      "  [76 33 54]\n",
      "  [76 33 54]\n",
      "  [76 33 54]]\n",
      "\n",
      " ...\n",
      "\n",
      " [[16  5  7]\n",
      "  [16  5  7]\n",
      "  [17  6  8]\n",
      "  ...\n",
      "  [44 11 15]\n",
      "  [44 11 15]\n",
      "  [44 11 15]]\n",
      "\n",
      " [[16  5  7]\n",
      "  [16  5  7]\n",
      "  [17  6  8]\n",
      "  ...\n",
      "  [44 11 15]\n",
      "  [44 11 15]\n",
      "  [44 11 15]]\n",
      "\n",
      " [[16  5  7]\n",
      "  [16  5  7]\n",
      "  [17  6  8]\n",
      "  ...\n",
      "  [44 11 15]\n",
      "  [44 11 15]\n",
      "  [44 11 15]]]\n"
     ]
    }
   ],
   "source": [
    "print(img) # we get the numpy array"
   ]
  },
  {
   "cell_type": "code",
   "execution_count": 5,
   "id": "9e388734-7bb6-48c3-b355-01a34f3ac336",
   "metadata": {},
   "outputs": [
    {
     "name": "stdout",
     "output_type": "stream",
     "text": [
      "<class 'numpy.ndarray'>\n"
     ]
    }
   ],
   "source": [
    "print(type(img))"
   ]
  },
  {
   "cell_type": "code",
   "execution_count": 8,
   "id": "d01b1b0c-0f04-43ff-8c83-bff81cc06b84",
   "metadata": {},
   "outputs": [
    {
     "name": "stdout",
     "output_type": "stream",
     "text": [
      "(1080, 1920, 3)\n"
     ]
    }
   ],
   "source": [
    "print(img.shape) # ht wd channel(color space)"
   ]
  },
  {
   "cell_type": "code",
   "execution_count": 10,
   "id": "a8e257da-8d6d-4829-968b-f4ac9b03d304",
   "metadata": {},
   "outputs": [],
   "source": [
    "# [\n",
    "#     [[],[],[],[].......]\n",
    "#     [[],[],[],[].......]\n",
    "#     [[],[],[],[].......]\n",
    "# ]\n",
    "\n",
    "# BGR [0,0,0]"
   ]
  },
  {
   "cell_type": "code",
   "execution_count": 14,
   "id": "c847b8ed-3799-4a7c-954d-f55891ccb0cd",
   "metadata": {},
   "outputs": [
    {
     "name": "stdout",
     "output_type": "stream",
     "text": [
      "[62 22 34]\n"
     ]
    }
   ],
   "source": [
    "print(img[0][400]) # prints first rows and 400th column"
   ]
  },
  {
   "cell_type": "code",
   "execution_count": 17,
   "id": "69a8ba56-e2d4-43e5-8c8b-bc029b854d45",
   "metadata": {},
   "outputs": [],
   "source": [
    "for i in range(100):\n",
    "    for j in range(img.shape[1]):\n",
    "        # (rows,columns,channels)\n",
    "        img[i][j]=[random.randint(0,255),random.randint(0,255),random.randint(0,255)]"
   ]
  },
  {
   "cell_type": "code",
   "execution_count": 18,
   "id": "0b6fce16-84d2-40b6-94b4-f3c36651461e",
   "metadata": {},
   "outputs": [],
   "source": [
    "cv2.imshow('img',img)\n",
    "cv2.waitKey(0)\n",
    "cv2.destroyAllWindows()"
   ]
  },
  {
   "cell_type": "markdown",
   "id": "f976025e-29d9-4d7c-9010-2efaccd4d6f8",
   "metadata": {},
   "source": [
    "## copy and paste a part of image"
   ]
  },
  {
   "cell_type": "code",
   "execution_count": 20,
   "id": "acdd517b-fa05-4b56-b79b-88729de13fd2",
   "metadata": {},
   "outputs": [],
   "source": [
    "tag=img[500:700,600:900]"
   ]
  },
  {
   "cell_type": "code",
   "execution_count": 21,
   "id": "5663ef2d-b4e4-447a-ad5a-46218f94426b",
   "metadata": {},
   "outputs": [],
   "source": [
    "img[100:300,100:400]=tag"
   ]
  },
  {
   "cell_type": "code",
   "execution_count": 22,
   "id": "5616b031-38a3-48a4-8a9e-b2f3b7b2f134",
   "metadata": {},
   "outputs": [],
   "source": [
    "cv2.imshow('img',img)\n",
    "cv2.waitKey(0)\n",
    "cv2.destroyAllWindows()"
   ]
  },
  {
   "cell_type": "code",
   "execution_count": null,
   "id": "c81cb7f7-fa93-4bfa-a753-dc63a8c6886c",
   "metadata": {},
   "outputs": [],
   "source": []
  }
 ],
 "metadata": {
  "kernelspec": {
   "display_name": "Python 3 (ipykernel)",
   "language": "python",
   "name": "python3"
  },
  "language_info": {
   "codemirror_mode": {
    "name": "ipython",
    "version": 3
   },
   "file_extension": ".py",
   "mimetype": "text/x-python",
   "name": "python",
   "nbconvert_exporter": "python",
   "pygments_lexer": "ipython3",
   "version": "3.11.2"
  }
 },
 "nbformat": 4,
 "nbformat_minor": 5
}
