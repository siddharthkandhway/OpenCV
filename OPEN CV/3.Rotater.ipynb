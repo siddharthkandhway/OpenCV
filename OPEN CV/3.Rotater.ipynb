{
 "cells": [
  {
   "cell_type": "code",
   "execution_count": 32,
   "id": "91da0d99-8efb-4ea8-8bc8-c8286038b0cb",
   "metadata": {},
   "outputs": [],
   "source": [
    "import cv2\n",
    "import numpy as np"
   ]
  },
  {
   "cell_type": "code",
   "execution_count": 33,
   "id": "2700e8c1-a238-4845-abf1-7d1cea6d7d36",
   "metadata": {},
   "outputs": [],
   "source": [
    "cap=cv2.VideoCapture(0)\n",
    "# cap=cv2.VideoCapture('video name') for accessing the video"
   ]
  },
  {
   "cell_type": "code",
   "execution_count": 35,
   "id": "2e258cda-f93a-4719-a8fe-5f0088a522e8",
   "metadata": {},
   "outputs": [],
   "source": [
    "while True:\n",
    "    ret,frame=cap.read() #cap.read() will save the frame from video or camera and save it to frame and ret is a boolean which will be false if it fails\n",
    "    w=int(cap.get(3))\n",
    "    h=int(cap.get(4)) #default value is float which can not be used in slice\n",
    "    \n",
    "    image=np.zeros(frame.shape,np.uint8)\n",
    "    s_f=cv2.resize(frame,(0,0),fx=0.5,fy=0.5)\n",
    "    image[:h//2,:w//2]=s_f\n",
    "    image[h//2:,:w//2]=cv2.rotate(s_f,cv2.ROTATE_180)\n",
    "    image[:h//2,w//2:]=cv2.rotate(s_f,cv2.ROTATE_180)\n",
    "    image[h//2:,w//2:]=s_f\n",
    "    \n",
    "    cv2.imshow('frame',image)\n",
    "    \n",
    "    if cv2.waitKey(1)==ord('d'):\n",
    "        break\n",
    "\n",
    "cap.release()\n",
    "cv2.destroyAllWindows()"
   ]
  },
  {
   "cell_type": "code",
   "execution_count": null,
   "id": "563b19cf-dcde-4671-86c3-64e1cfeb289c",
   "metadata": {},
   "outputs": [],
   "source": []
  },
  {
   "cell_type": "code",
   "execution_count": null,
   "id": "138c9d1c-6d03-4c64-9fe9-9f4d076bb757",
   "metadata": {},
   "outputs": [],
   "source": []
  }
 ],
 "metadata": {
  "kernelspec": {
   "display_name": "Python 3 (ipykernel)",
   "language": "python",
   "name": "python3"
  },
  "language_info": {
   "codemirror_mode": {
    "name": "ipython",
    "version": 3
   },
   "file_extension": ".py",
   "mimetype": "text/x-python",
   "name": "python",
   "nbconvert_exporter": "python",
   "pygments_lexer": "ipython3",
   "version": "3.11.2"
  }
 },
 "nbformat": 4,
 "nbformat_minor": 5
}
