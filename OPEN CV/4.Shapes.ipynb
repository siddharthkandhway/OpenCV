{
 "cells": [
  {
   "cell_type": "code",
   "execution_count": 51,
   "id": "252e2c36-75e7-4e0c-a05f-d600cdf334b5",
   "metadata": {},
   "outputs": [],
   "source": [
    "import cv2"
   ]
  },
  {
   "cell_type": "code",
   "execution_count": 52,
   "id": "02217959-69ee-47e6-939d-762f633bb119",
   "metadata": {},
   "outputs": [],
   "source": [
    "cap=cv2.VideoCapture(0)"
   ]
  },
  {
   "cell_type": "code",
   "execution_count": 53,
   "id": "c2097e41-9a2a-4179-9656-134f0b57684f",
   "metadata": {},
   "outputs": [],
   "source": [
    "while True:\n",
    "    ret,frame=cap.read()\n",
    "    wd=int(cap.get(3))\n",
    "    ht=int(cap.get(4))\n",
    "\n",
    "    img=cv2.line(frame,(0,0),(wd,ht),(255,0,0),10) # img ,start,end,color,thickness\n",
    "    img=cv2.line(img,(wd,0),(0,ht),(255,255,0),10)\n",
    "\n",
    "    img=cv2.rectangle(img,(wd//4,ht//4),(wd//2,ht//2),(0,0,128),-1) # -1 to fill inside \n",
    "\n",
    "    img=cv2.circle(img,(wd//2,ht//2),100,(0,255,0),10) \n",
    "\n",
    "    font=cv2.FONT_HERSHEY_SIMPLEX\n",
    "\n",
    "    img=cv2.putText(img,'HELLO JI', (200,ht-10),font,1,(0,0,0),2,cv2.LINE_AA) # afrr font its scale is given \n",
    "    \n",
    "    cv2.imshow('frame',frame)\n",
    "    if cv2.waitKey(1)==ord('d'):\n",
    "        break\n",
    "\n",
    "cap.release();\n",
    "cv2.destroyAllWindows();"
   ]
  },
  {
   "cell_type": "code",
   "execution_count": null,
   "id": "b49692a9-e369-44e2-b880-82df6fcaf05e",
   "metadata": {},
   "outputs": [],
   "source": []
  }
 ],
 "metadata": {
  "kernelspec": {
   "display_name": "Python 3 (ipykernel)",
   "language": "python",
   "name": "python3"
  },
  "language_info": {
   "codemirror_mode": {
    "name": "ipython",
    "version": 3
   },
   "file_extension": ".py",
   "mimetype": "text/x-python",
   "name": "python",
   "nbconvert_exporter": "python",
   "pygments_lexer": "ipython3",
   "version": "3.11.2"
  }
 },
 "nbformat": 4,
 "nbformat_minor": 5
}
