{
 "cells": [
  {
   "cell_type": "code",
   "execution_count": 2,
   "id": "a1548f6d-6377-46c7-9e28-a4b07bfd04fb",
   "metadata": {},
   "outputs": [],
   "source": [
    "import cv2\n",
    "import numpy as np\n",
    "\n",
    "cap=cv2.VideoCapture(0)\n",
    "\n",
    "while True:\n",
    "    ret,frame=cap.read()\n",
    "    wd=int(cap.get(3))\n",
    "    ht=int(cap.get(4))\n",
    "\n",
    "    hsv=cv2.cvtColor(frame,cv2.COLOR_BGR2HSV) # instead of frame we can also pass 1 pixel like this [[[255,0,0]]]\n",
    "    lower_blue=np.array([90,50,50])\n",
    "    upper_blue=np.array([130,255,255])\n",
    "\n",
    "    mask = cv2.inRange(hsv,lower_blue,upper_blue)\n",
    "\n",
    "    result=cv2.bitwise_and(frame,frame,mask=mask)\n",
    "\n",
    "    cv2.imshow('frame',result)\n",
    "    cv2.imshow('mask',mask)\n",
    "    \n",
    "    if cv2.waitKey(1)==ord('d'):\n",
    "        break\n",
    "\n",
    "cap.release()\n",
    "cv2.destroyAllWindows()"
   ]
  },
  {
   "cell_type": "code",
   "execution_count": null,
   "id": "9137267c-6ac4-45dc-89f7-1fab4653f8e8",
   "metadata": {},
   "outputs": [],
   "source": []
  },
  {
   "cell_type": "code",
   "execution_count": null,
   "id": "05a67821-54f5-4340-aa0b-d7cc6b61de93",
   "metadata": {},
   "outputs": [],
   "source": []
  }
 ],
 "metadata": {
  "kernelspec": {
   "display_name": "Python 3 (ipykernel)",
   "language": "python",
   "name": "python3"
  },
  "language_info": {
   "codemirror_mode": {
    "name": "ipython",
    "version": 3
   },
   "file_extension": ".py",
   "mimetype": "text/x-python",
   "name": "python",
   "nbconvert_exporter": "python",
   "pygments_lexer": "ipython3",
   "version": "3.11.2"
  }
 },
 "nbformat": 4,
 "nbformat_minor": 5
}
