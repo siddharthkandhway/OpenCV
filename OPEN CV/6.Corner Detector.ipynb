{
 "cells": [
  {
   "cell_type": "code",
   "execution_count": 32,
   "id": "c397dc67-6741-4439-a474-5f0d7dce382c",
   "metadata": {},
   "outputs": [
    {
     "name": "stderr",
     "output_type": "stream",
     "text": [
      "C:\\Users\\siddh\\AppData\\Local\\Temp\\ipykernel_19908\\4052921894.py:11: DeprecationWarning: `np.int0` is a deprecated alias for `np.intp`.  (Deprecated NumPy 1.24)\n",
      "  corners=np.int0(corners)\n"
     ]
    }
   ],
   "source": [
    "import cv2\n",
    "import numpy as np\n",
    "\n",
    "img=cv2.imread('download.png')\n",
    "img=cv2.resize(img,(0,0),fx=3,fy=3)\n",
    "gray=cv2.cvtColor(img,cv2.COLOR_BGR2GRAY)\n",
    "\n",
    "corners=cv2.goodFeaturesToTrack(gray,100,0.01,10) # source img,no of corners,min quality,min euclidean distance\n",
    "\n",
    "# print(corners) the result will be float\n",
    "corners=np.int0(corners)\n",
    "\n",
    "for corner in corners:\n",
    "    # print(corner)\n",
    "    x,y=corner.ravel() # ravel [[1,2,3]] -> [1,2,3] or [[1,2],[1,1]] -> [1,2,1,1]\n",
    "    cv2.circle(img,(x,y),5,(0,255,0),-1)\n",
    "\n",
    "for i in range(len(corners)): # to check if there are multiple circles over one ie if it is detecting single multiple times\n",
    "    for j in range(i+1,len(corner)):\n",
    "        corner1=tuple(corners[i][0]) # for unraveling this\n",
    "        corner2=tuple(corners[j][0])\n",
    "        color=tuple(map(lambda x:int(x),np.random.randint(0,255,size=3))) #to convert the 64 or 32 bit random int to 8 bit python standard int and using map and lambda function to mark all)\n",
    "        cv2.line(img,corner1,corner2,color,1)\n",
    "\n",
    "cv2.imshow('chessboard',img)\n",
    "cv2.waitKey(0)\n",
    "cv2.destroyAllWindows()"
   ]
  },
  {
   "cell_type": "code",
   "execution_count": null,
   "id": "582bf71b-8da3-47d9-8eb7-bd66863c5f4f",
   "metadata": {},
   "outputs": [],
   "source": []
  }
 ],
 "metadata": {
  "kernelspec": {
   "display_name": "Python 3 (ipykernel)",
   "language": "python",
   "name": "python3"
  },
  "language_info": {
   "codemirror_mode": {
    "name": "ipython",
    "version": 3
   },
   "file_extension": ".py",
   "mimetype": "text/x-python",
   "name": "python",
   "nbconvert_exporter": "python",
   "pygments_lexer": "ipython3",
   "version": "3.11.2"
  }
 },
 "nbformat": 4,
 "nbformat_minor": 5
}
