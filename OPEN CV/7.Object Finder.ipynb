{
 "cells": [
  {
   "cell_type": "code",
   "execution_count": 8,
   "id": "9a1ed555-0557-4794-810c-6eae016f4d5e",
   "metadata": {},
   "outputs": [],
   "source": [
    "import cv2\n",
    "import numpy as np\n",
    "\n",
    "bimg=cv2.imread('soccer_practice.jpg',0)\n",
    "item=cv2.imread('ball.png',0)\n",
    "\n",
    "h,w=item.shape\n",
    "\n",
    "methods=[cv2.TM_CCOEFF,cv2.TM_CCOEFF_NORMED,cv2.TM_CCORR,cv2.TM_CCORR_NORMED,cv2.TM_SQDIFF,cv2.TM_SQDIFF_NORMED] #methods FOR TEMPLATE MATCHING\n",
    "\n",
    "for method in methods:\n",
    "    img2=bimg.copy()\n",
    "\n",
    "    result=cv2.matchTemplate(img2,item,method) # (W-w+1,H-h+1)\n",
    "\n",
    "    min_val, max_val, min_loc, max_loc = cv2.minMaxLoc(result)\n",
    "    # print(min_loc, max_loc)\n",
    "    \n",
    "    if method in [cv2.TM_SQDIFF, cv2.TM_SQDIFF_NORMED]:\n",
    "        location = min_loc\n",
    "    else:\n",
    "        location = max_loc\n",
    "\n",
    "    bottom_right = (location[0] + w, location[1] + h)    \n",
    "    cv2.rectangle(img2, location, bottom_right, 255, 5)\n",
    "    cv2.imshow('Match', img2)\n",
    "    cv2.waitKey(0)\n",
    "    cv2.destroyAllWindows()\n",
    "    \n",
    "\n",
    "\n",
    "\n",
    "\n"
   ]
  },
  {
   "cell_type": "code",
   "execution_count": 15,
   "id": "d7666707-e5c1-46f3-9b22-19786418e3f2",
   "metadata": {},
   "outputs": [],
   "source": [
    "import numpy as np\n",
    "\n",
    "bimg=cv2.resize(cv2.imread('soccer_practice.jpg',0),(0,0),fx=0.7,fy=0.7)\n",
    "\n",
    "item=cv2.resize(cv2.imread('shoe.png',0),(0,0),fx=0.7,fy=0.7)\n",
    "\n",
    "\n",
    "h,w=item.shape\n",
    "\n",
    "methods=[cv2.TM_CCOEFF,cv2.TM_CCOEFF_NORMED,cv2.TM_CCORR,cv2.TM_CCORR_NORMED,cv2.TM_SQDIFF,cv2.TM_SQDIFF_NORMED] #methods FOR TEMPLATE MATCHING\n",
    "\n",
    "for method in methods:\n",
    "    img2=bimg.copy()\n",
    "\n",
    "    result=cv2.matchTemplate(img2,item,method) # (W-w+1,H-h+1)\n",
    "\n",
    "    min_val, max_val, min_loc, max_loc = cv2.minMaxLoc(result)\n",
    "    # print(min_loc, max_loc)\n",
    "    \n",
    "    if method in [cv2.TM_SQDIFF, cv2.TM_SQDIFF_NORMED]:\n",
    "        location = min_loc\n",
    "    else:\n",
    "        location = max_loc\n",
    "\n",
    "    bottom_right = (location[0] + w, location[1] + h)    \n",
    "    cv2.rectangle(img2, location, bottom_right, 255, 5)\n",
    "    cv2.imshow('Match', img2)\n",
    "    cv2.waitKey(0)\n",
    "    cv2.destroyAllWindows()\n",
    "    "
   ]
  },
  {
   "cell_type": "code",
   "execution_count": null,
   "id": "891c6984-b6be-4ef2-8d85-8df12426fc24",
   "metadata": {},
   "outputs": [],
   "source": []
  }
 ],
 "metadata": {
  "kernelspec": {
   "display_name": "Python 3 (ipykernel)",
   "language": "python",
   "name": "python3"
  },
  "language_info": {
   "codemirror_mode": {
    "name": "ipython",
    "version": 3
   },
   "file_extension": ".py",
   "mimetype": "text/x-python",
   "name": "python",
   "nbconvert_exporter": "python",
   "pygments_lexer": "ipython3",
   "version": "3.11.2"
  }
 },
 "nbformat": 4,
 "nbformat_minor": 5
}
